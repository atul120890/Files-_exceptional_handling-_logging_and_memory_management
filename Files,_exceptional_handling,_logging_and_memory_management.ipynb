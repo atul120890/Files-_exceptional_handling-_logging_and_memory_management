{
  "nbformat": 4,
  "nbformat_minor": 0,
  "metadata": {
    "colab": {
      "private_outputs": true,
      "provenance": []
    },
    "kernelspec": {
      "name": "python3",
      "display_name": "Python 3"
    },
    "language_info": {
      "name": "python"
    }
  },
  "cells": [
    {
      "cell_type": "code",
      "execution_count": null,
      "metadata": {
        "id": "qgu8J2xn0hX-"
      },
      "outputs": [],
      "source": [
        "Files, exceptional handling, logging and memory management"
      ]
    },
    {
      "cell_type": "markdown",
      "source": [],
      "metadata": {
        "id": "ewMsv7UP02Ce"
      }
    },
    {
      "cell_type": "markdown",
      "source": [
        "'''Q1.What is the difference between interpreted and compiled languages\n",
        "\n",
        "Compiled Languages:\n",
        "\n",
        "How it works: Code is translated all at once into machine code (binary) by a compiler before it’s run\n",
        "\n",
        "Interpreted Languages:\n",
        "\n",
        "How it works: Code is read and executed line-by-line by an interpreter at runtime.'''\n",
        "\n",
        "'''Q2.What is exception handling in Python0\n",
        "\n",
        "An exception is an error that occurs at runtime (while the program is running).'''\n",
        "\n",
        "'''Q.3  What is the purpose of the finally block in exception handling.\n",
        "\n",
        "Purpose of finally:\n",
        "To clean up resources (like closing files, disconnecting from a database, etc.).\n",
        "To ensure that some important action always happens (like logging or resetting something).'''\n",
        "\n",
        "'''Q4. What is logging in python\n",
        "\n",
        "Logging in Python is a way to track events that happen while your program runs. Instead of using print() for debugging or status messages, you use the logging module, which gives you way more power and flexibility'''\n",
        "\n",
        "''Q5. What is the significance of the __del__ method in Python\n",
        "\n",
        "The __del__ method in Python is a special method (a destructor) that's called automatically when an object is about to be destroyed—usually when there are no more references to the object'''\n",
        "\n",
        "'''Q6. What is the difference between import and from ... import in Python\n",
        "\n",
        "Both import and from ... import are used to bring in modules or specific items from modules in Python, but they work a bit differently'''\n",
        "\n",
        "'''Q7.How can you handle multiple exceptions in Python\n",
        "\n",
        "1. Multiple except Blocks\n",
        "2. Handling Multiple Exceptions in One Line\n",
        "3. Using else and finally with Multiple Exceptions'''\n",
        "\n",
        "'''Q8. What is the purpose of the with statement when handling files in Python\n",
        "\n",
        "The with statement in Python is used to simplify file handling and ensure proper cleanup, like automatically closing files'''\n",
        "\n",
        "'''Q9.What is the difference between multithreading and multiprocessing\n",
        "\n",
        "The difference between multithreading and multiprocessing in Python mainly comes down to how they handle tasks and how they use system resources—especially CPU cores.'''\n",
        "\n",
        "'''Q10.What are the advantages of using logging in a program\n",
        "\n",
        "Using logging in a program (instead of just print() statements) gives you a powerful, flexible, and professional way to track what's happening in your code — especially in bigger or long-running applications'''\n",
        "\n",
        "'''11.What is memory management in Python\n",
        "\n",
        "Memory management in Python refers to the way the Python interpreter manages memory allocation and deallocation while running a program. Python has a sophisticated system to handle memory usage automatically'''\n",
        "\n",
        "'''12.What are the basic steps involved in exception handling in Python\n",
        "\n",
        "1. Use the try Block\n",
        "2. Handle Exceptions with the except Block\n",
        "3. Optionally Use else Block\n",
        "4. Optionally Use finally Block'''\n",
        "\n",
        "'''Q13.Why is memory management important in Python.\n",
        "\n",
        "Memory management is crucial in any programming language, including Python, because it directly impacts the performance, efficiency, and stability of your program. Here's why it is important in Python\n",
        "\n",
        "'''Q14.What is the role of try and except in exception handling\n",
        "\n",
        "In Python's exception handling, the try and except blocks play a key role in managing errors and ensuring that your program continues running smoothly, even when something goes wrong.'''\n",
        "\n",
        "'''Q15.How does Python's garbage collection system work\n",
        "\n",
        "Python's garbage collection system is designed to automatically manage memory by reclaiming memory that is no longer in use, preventing memory leaks and optimizing memory usage. Python uses a two-step approach to garbage collection: reference counting and cyclic garbage collection.'''\n",
        "\n",
        "'''Q16.What is the purpose of the else block in exception handling\n",
        "\n",
        "The else block in Python's exception handling is an optional part of the try-except construct. Its purpose is to define a set of actions that should be executed only if no exceptions were raised in the try block. This allows you to cleanly separate the \"normal\" execution flow (when everything goes as expected) from the error-handling flow (when an exception occurs).'''\n",
        "\n",
        "'''Q17.What are the common logging levels in Python\n",
        "\n",
        " In Python, the logging module provides several predefined logging levels that indicate the severity of the messages. These levels allow you to control the verbosity of the logs generated by your application, helping you to focus on the most important information during development, debugging, or in production.\n",
        "Here are the common logging levels in Python, listed in order of increasing '''\n",
        "\n",
        "'''Q18.What is the difference between os.fork() and multiprocessing in Python\n",
        "\n",
        "In Python, both os.fork() and the multiprocessing module allow you to create new processes, but they are fundamentally different in terms of how they work and how they are used.'''\n",
        "\n",
        "'''Q19. What is the importance of closing a file in Python\n",
        "\n",
        "Closing a file in Python is crucial for several important reasons, primarily related to resource management and data integrity. When you open a file in Python (using the open() function), the operating system allocates resources (like file handles) to manage that file. If you don’t close the file properly, it can lead to issues such as memory leaks, file corruption, and resource exhaustion. Here are the key reasons why you should always close a file after you're done using it'''\n",
        "\n",
        "'''Q20.What is the difference between file.read() and file.readline() in Python\n",
        "\n",
        "In Python, both file.read() and file.readline() are used to read data from a file, but they behave differently in terms of how they read the content. Here’s a breakdown of the differences'''\n",
        "\n",
        "'''Q21.What is the logging module in Python used for\n",
        "\n",
        "The logging module in Python is used for logging events, errors, and informational messages from your program. It provides a flexible framework for adding logging to your application, which can be extremely helpful for debugging, monitoring, and troubleshooting.'''\n",
        "\n",
        "'''Q22.What is the os module in Python used for in file handling\n",
        "\n",
        "The os module in Python provides a way to interact with the operating system, and it is commonly used for file handling operations such as working with files and directories, and managing paths. The module allows you to perform various tasks like creating, deleting, renaming files or directories, checking file status, and navigating the file system'''\n",
        "\n",
        "'''Q23.What are the challenges associated with memory management in\n",
        "\n",
        "Memory management in Python is mostly automatic thanks to its built-in garbage collector and dynamic memory allocation system. However, there are still several challenges developers need to be aware of to avoid performance issues, memory leaks, or unexpected behavior'''\n",
        "\n",
        "'''Q24.How do you raise an exception manually in Python\n",
        "\n",
        "ExceptionType can be any built-in or custom exception class.\n",
        "The string inside is an optional error message that describes what went wrong.\n",
        "\n",
        "'''Q25.Why is it important to use multithreading in certain applications?\n",
        "\n",
        "Multithreading is important in certain applications because it helps improve performance, responsiveness, and resource utilization — especially when tasks can run in parallel or are I/O-bound.'"
      ],
      "metadata": {
        "id": "GAHLFjaK4Ck2"
      }
    },
    {
      "cell_type": "code",
      "source": [
        "Practical Questions"
      ],
      "metadata": {
        "id": "hh1QNP884aDQ"
      },
      "execution_count": null,
      "outputs": []
    },
    {
      "cell_type": "code",
      "source": [
        "'''#Q1.How can you open a file for writing in Python and write a string to it\n",
        "# Open the file in write mode and write a string\n",
        "with open(\"my_file.txt\", \"w\") as file:\n",
        "    file.write(\"Hello, world!\")'''\n",
        "\n"
      ],
      "metadata": {
        "id": "TVyrrYB6EIRt"
      },
      "execution_count": null,
      "outputs": []
    },
    {
      "cell_type": "code",
      "source": [
        "'''#Q2.Write a Python program to read the contents of a file and print each line\n",
        "# File: read_file.py\n",
        "\n",
        "# Open the file in read mode\n",
        "with open(\"example.txt\", \"r\") as file:\n",
        "    # Loop through each line in the file\n",
        "    for line in file:\n",
        "        # Print each line (removing the newline at the end)\n",
        "        print(line.strip())'''\n",
        "\n"
      ],
      "metadata": {
        "id": "ljP_HjB4E75k"
      },
      "execution_count": null,
      "outputs": []
    },
    {
      "cell_type": "code",
      "source": [
        "'''Q3.How would you handle a case where the file doesn't exist while trying to open it for reading\n",
        "filename = \"my_file.txt\"\n",
        "\n",
        "try:\n",
        "    with open(filename, \"r\") as file:\n",
        "        contents = file.read()\n",
        "        print(contents)\n",
        "except FileNotFoundError:\n",
        "    print(f\"Error: The file '{filename}' does not exist.\")'''\n",
        "\n"
      ],
      "metadata": {
        "id": "6lkb-s4YFcXz"
      },
      "execution_count": null,
      "outputs": []
    },
    {
      "cell_type": "code",
      "source": [
        "'''Q4.Write a Python script that reads from one file and writes its content to another file\n",
        "\n",
        "\n",
        "# Source and destination file names\n",
        "source_file = \"input.txt\"\n",
        "destination_file = \"output.txt\"\n",
        "\n",
        "try:\n",
        "    # Open the source file for reading\n",
        "    with open(source_file, \"r\") as src:\n",
        "        # Open the destination file for writing\n",
        "        with open(destination_file, \"w\") as dest:\n",
        "            # Read from source and write to destination\n",
        "            for line in src:\n",
        "                dest.write(line)\n",
        "\n",
        "    print(f\"Contents copied from '{source_file}' to '{destination_file}' successfully.\")\n",
        "\n",
        "except FileNotFoundError:\n",
        "    print(f\"Error: The file '{source_file}' does not exist.\")\n",
        "except IOError as e:\n",
        "    print(f\"An I/O error occurred: {e}\")'''\n"
      ],
      "metadata": {
        "id": "iPPBGr7oGQGM"
      },
      "execution_count": null,
      "outputs": []
    },
    {
      "cell_type": "code",
      "source": [
        "'''Q5.How would you catch and handle division by zero error in Python\n",
        "try:\n",
        "    numerator = 10\n",
        "    denominator = 0\n",
        "    result = numerator / denominator\n",
        "    print(\"Result:\", result)\n",
        "except ZeroDivisionError:\n",
        "    print(\"Error: You can't divide by zero.\")'''\n",
        "\n",
        "\n"
      ],
      "metadata": {
        "id": "RYC_CDCFGvS_"
      },
      "execution_count": null,
      "outputs": []
    },
    {
      "cell_type": "code",
      "source": [
        "'''Q6.)Write a Python program that logs an error message to a log file when a division by zero exception occurs\n",
        "\n",
        "import logging\n",
        "\n",
        "# Configure the logging system\n",
        "logging.basicConfig(filename=\"error_log.txt\", level=logging.ERROR, format=\"%(asctime)s - %(levelname)s - %(message)s\")\n",
        "\n",
        "try:\n",
        "    # Example variables\n",
        "    numerator = 10\n",
        "    denominator = 0\n",
        "\n",
        "    # Try performing division\n",
        "    result = numerator / denominator\n",
        "    print(\"Result:\", result)\n",
        "\n",
        "except ZeroDivisionError as e:\n",
        "    # Log the error with a custom message\n",
        "    logging.error(\"Division by zero occurred: %s\", e)\n",
        "    print(\"Error: You can't divide by zero. Check the log for more details.\")\n"
      ],
      "metadata": {
        "id": "A0I2TFX1HXMN"
      },
      "execution_count": null,
      "outputs": []
    },
    {
      "cell_type": "code",
      "source": [
        "'''Q7.How do you log information at different levels (INFO, ERROR, WARNING) in Python using the logging module\n",
        "import logging\n",
        "\n",
        "# Configure logging to output to a file and set the logging level to DEBUG\n",
        "logging.basicConfig(filename='app.log', level=logging.DEBUG, format='%(asctime)s - %(levelname)s - %(message)s')\n",
        "\n",
        "# Logging examples at different levels\n",
        "logging.debug(\"This is a debug message\")\n",
        "logging.info(\"This is an info message\")\n",
        "logging.warning(\"This is a warning message\")\n",
        "logging.error(\"This is an error message\")\n",
        "logging.critical(\"This is a critical message\")'''\n"
      ],
      "metadata": {
        "id": "FNuzX3v_H8CG"
      },
      "execution_count": null,
      "outputs": []
    },
    {
      "cell_type": "code",
      "source": [
        "'''Q8.Write a program to handle a file opening error using exception handling\n",
        "try:\n",
        "    # Attempt to open a file for reading\n",
        "    with open(\"example.txt\", \"r\") as file:\n",
        "        content = file.read()\n",
        "        print(content)\n",
        "\n",
        "except FileNotFoundError:\n",
        "    # This block is executed if the file does not exist\n",
        "    print(\"Error: The file does not exist. Please check the file name or path.\")\n",
        "\n",
        "except PermissionError:\n",
        "    # This block is executed if the file exists but you don't have permission to open it\n",
        "    print(\"Error: You don't have permission to open this file.\")\n",
        "\n",
        "except Exception as e:\n",
        "    # This block handles any other unexpected exceptions\n",
        "    print(f\"An unexpected error occurred: {e}\")'''\n"
      ],
      "metadata": {
        "id": "hJV7LALtIT8V"
      },
      "execution_count": null,
      "outputs": []
    },
    {
      "cell_type": "code",
      "source": [
        "'''Q9.How can you read a file line by line and store its content in a list in Python\n",
        "filename = \"example.txt\"\n",
        "lines = []\n",
        "\n",
        "try:\n",
        "    # Open the file in read mode\n",
        "    with open(filename, \"r\") as file:\n",
        "        # Read each line and store it in the list\n",
        "        for line in file:\n",
        "            lines.append(line.strip())  # strip() removes the newline at the end\n",
        "\n",
        "    # Print the list containing the lines\n",
        "    print(lines)\n",
        "\n",
        "except FileNotFoundError:\n",
        "    print(f\"Error: The file '{filename}' does not exist.\")\n",
        "except IOError as e:\n",
        "    print(f\"An I/O error occurred: {e}\")'''\n"
      ],
      "metadata": {
        "id": "EVrZDxJ1IpYf"
      },
      "execution_count": null,
      "outputs": []
    },
    {
      "cell_type": "code",
      "source": [
        "'''Q10.How can you append data to an existing file in Python\n",
        "filename = \"example.txt\"\n",
        "\n",
        "# Data to append to the file\n",
        "data_to_append = \"\\nThis is the new line being appended to the file.\"\n",
        "\n",
        "# Open the file in append mode ('a')\n",
        "with open(filename, \"a\") as file:\n",
        "    # Write the data to the file\n",
        "    file.write(data_to_append)\n",
        "\n",
        "print(f\"Data has been successfully appended to '{filename}'.\")'''\n"
      ],
      "metadata": {
        "id": "RdrpmUwGJBVl"
      },
      "execution_count": null,
      "outputs": []
    },
    {
      "cell_type": "code",
      "source": [
        "'''Q11. Write a Python program that uses a try-except block to handle an error when attempting to access a dictionary key that doesn't exist\n",
        "# Sample dictionary\n",
        "my_dict = {\"name\": \"Alice\", \"age\": 30, \"city\": \"New York\"}\n",
        "\n",
        "# Key to access\n",
        "key_to_access = \"address\"\n",
        "\n",
        "try:\n",
        "    # Attempt to access the dictionary key\n",
        "    value = my_dict[key_to_access]\n",
        "    print(f\"The value of '{key_to_access}' is: {value}\")\n",
        "\n",
        "except KeyError:\n",
        "    # Handle the case where the key doesn't exist\n",
        "    print(f\"Error: The key '{key_to_access}' does not exist in the dictionary.\")'''\n",
        "\n",
        "\n"
      ],
      "metadata": {
        "id": "_gn4pOoaJUHY"
      },
      "execution_count": null,
      "outputs": []
    },
    {
      "cell_type": "code",
      "source": [
        "'''Q12.Write a program that demonstrates using multiple except blocks to handle different types of exceptions\n",
        "try:\n",
        "    # Try some operations that may cause different types of errors\n",
        "\n",
        "    # Division by zero error\n",
        "    num1 = 10\n",
        "    num2 = 0\n",
        "    result = num1 / num2\n",
        "    print(f\"Result of division: {result}\")\n",
        "\n",
        "    # Attempt to open a non-existent file\n",
        "    with open(\"non_existent_file.txt\", \"r\") as file:\n",
        "        content = file.read()\n",
        "        print(content)\n",
        "\n",
        "    # Attempt to access a non-existent dictionary key\n",
        "    my_dict = {\"name\": \"Alice\", \"age\": 30}\n",
        "    value = my_dict[\"address\"]\n",
        "    print(f\"Address: {value}\")\n",
        "\n",
        "except ZeroDivisionError as e:\n",
        "    print(f\"Error: Cannot divide by zero! Details: {e}\")\n",
        "\n",
        "except FileNotFoundError as e:\n",
        "    print(f\"Error: File not found! Details: {e}\")\n",
        "\n",
        "except KeyError as e:\n",
        "    print(f\"Error: Key not found in the dictionary! Details: {e}\")\n",
        "\n",
        "except Exception as e:\n",
        "    # Catch any other exceptions not explicitly handled\n",
        "    print(f\"An unexpected error occurred: {e}\")'''\n",
        "\n"
      ],
      "metadata": {
        "id": "5MzGP9opJr1h"
      },
      "execution_count": null,
      "outputs": []
    },
    {
      "cell_type": "code",
      "source": [
        "'''Q13. How would you check if a file exists before attempting to read it in Python\n",
        "import os\n",
        "\n",
        "filename = \"example.txt\"\n",
        "\n",
        "# Check if the file exists and is a regular file\n",
        "if os.path.isfile(filename):\n",
        "    with open(filename, \"r\") as file:\n",
        "        content = file.read()\n",
        "    print(\"File content:\")\n",
        "    print(content)\n",
        "else:\n",
        "    print(f\"Error: The file '{filename}' does not exist or is'''\n",
        "\n"
      ],
      "metadata": {
        "id": "lFGRQJEEKETV"
      },
      "execution_count": null,
      "outputs": []
    },
    {
      "cell_type": "code",
      "source": [
        "'''Q14.Write a program that uses the logging module to log both informational and error messagesF\n",
        "import logging\n",
        "\n",
        "# Configure the logging\n",
        "logging.basicConfig(\n",
        "    filename='app.log',        # Log messages will be written to this file\n",
        "    level=logging.DEBUG,       # Set logging level to DEBUG to capture all messages\n",
        "    format='%(asctime)s - %(levelname)s - %(message)s'\n",
        ")\n",
        "\n",
        "def divide(a, b):\n",
        "    logging.info(\"Starting division operation: %s / %s\", a, b)'''\n"
      ],
      "metadata": {
        "id": "yMF65IzqKgxs"
      },
      "execution_count": null,
      "outputs": []
    },
    {
      "cell_type": "code",
      "source": [
        "'''Q15.Write a Python program that prints the content of a file and handles the case when the file is empty\n",
        "def print_file_content(filename):\n",
        "    try:\n",
        "        with open(filename, 'r') as file:\n",
        "            content = file.read()\n",
        "            if content.strip():  # Check if file is not just empty or whitespace\n",
        "                print(\"File content:\")\n",
        "                print(content)\n",
        "            else:\n",
        "                print(\"The file is empty.\")\n",
        "    except FileNotFoundError:\n",
        "        print(f\"Error: The file '{filename}' does not exist.\")\n",
        "    except IOError as e:'''\n",
        "\n"
      ],
      "metadata": {
        "id": "plGFOoNYauie"
      },
      "execution_count": null,
      "outputs": []
    },
    {
      "cell_type": "code",
      "source": [
        "'''Q16.Demonstrate how to use memory profiling to check the memory usage of a small program\n",
        "# memory_test.py\n",
        "\n",
        "from memory_profiler import profile\n",
        "\n",
        "@profile\n",
        "def create_large_list():\n",
        "    print(\"Creating a large list...\")\n",
        "    large_list = [i ** 2 for i in range(1000000)]\n",
        "    return large_list\n",
        "\n",
        "if __name__ == \"__main__\":\n",
        "    create_large_list()'''\n"
      ],
      "metadata": {
        "id": "f-ycV1_fbEm5"
      },
      "execution_count": null,
      "outputs": []
    },
    {
      "cell_type": "code",
      "source": [
        "'''Q17. Write a Python program to create and write a list of numbers to a file, one number per lineF\n",
        "def write_numbers_to_file(filename, numbers):\n",
        "    try:\n",
        "        with open(filename, 'w') as file:\n",
        "            for number in numbers:\n",
        "                file.write(f\"{number}\\n\")\n",
        "        print(f\"Successfully wrote {len(numbers)} numbers to '{filename}'.\")\n",
        "    except IOError as e:\n",
        "        print(f\"An error occurred while writing to the file: {e}\")\n",
        "\n",
        "if __name__ == \"__main__\":\n",
        "    # Example list of numbers\n",
        "    number_list = list(range(1,_'''\n",
        "\n"
      ],
      "metadata": {
        "id": "WQMaBzXrbXyz"
      },
      "execution_count": null,
      "outputs": []
    },
    {
      "cell_type": "code",
      "source": [
        "'''Q18. How would you implement a basic logging setup that logs to a file with rotation after 1MB\n",
        "import logging\n",
        "from logging.handlers import RotatingFileHandler\n",
        "\n",
        "def setup_logger():\n",
        "    logger = logging.getLogger(\"my_logger\")\n",
        "    logger.setLevel(logging.DEBUG)\n",
        "\n",
        "    # Create a rotating file handler\n",
        "    handler = RotatingFileHandler(\n",
        "        \"app.log\",          # Log file name\n",
        "        maxBytes=1 * 1024 * 1024,  # 1MB\n",
        "        backupCount=3       # Keep 3 backup files: app.log.1, app.log.2, etc.\n",
        "    )\n",
        "\n",
        "    formatter = logging.Formatter('%(asctime)s - %(levelname)s - %(message)s')\n",
        "    handler.setFormatter(formatter)\n",
        "\n",
        "    logger.addHandler(handler)\n",
        "    return logger\n",
        "\n",
        "if __name__ == \"__main__\":\n",
        "    logger = setup_logger()\n",
        "\n",
        "    # Generate some logs to test rotation\n",
        "    for i in range(10000):\n",
        "        logger.debug(f\"This is log message number {i}\")'''\n"
      ],
      "metadata": {
        "id": "635EPFoRbowl"
      },
      "execution_count": null,
      "outputs": []
    },
    {
      "cell_type": "code",
      "source": [
        "'''Q19.Write a program that handles both IndexError and KeyError using a try-except block\n",
        "\n",
        "\n",
        "def handle_errors():\n",
        "    my_list = [1, 2, 3]\n",
        "    my_dict = {'a': 100, 'b': 200}\n",
        "\n",
        "    try:\n",
        "        # Accessing an out-of-range index (will raise IndexError)\n",
        "        print(\"List item at index 5:\", my_list[5])\n",
        "\n",
        "        # Accessing a non-existent key (will raise KeyError)\n",
        "        print(\"Dictionary value for key 'z':\", my_dict['z'])\n",
        "\n",
        "    except IndexError as ie:\n",
        "        print(\"IndexError caught:\", ie)\n",
        "\n",
        "    except KeyError as ke:\n",
        "        print(\"KeyError caught:\", ke)\n",
        "\n",
        "if __name__ == \"__main__\":\n",
        "    handle_errors()'''\n"
      ],
      "metadata": {
        "id": "JxnSy7aVcQn1"
      },
      "execution_count": null,
      "outputs": []
    },
    {
      "cell_type": "code",
      "source": [
        "'''Q20.How would you open a file and read its contents using a context manager in Python\n",
        "filename = \"example.txt\"\n",
        "\n",
        "try:\n",
        "    with open(filename, 'r') as file:\n",
        "        contents = file.read()\n",
        "        print(\"File contents:\")\n",
        "        print(contents)\n",
        "except FileNotFoundError:\n",
        "    print(f\"The file '{filename}' was not found.\")\n",
        "except IOError as e:\n",
        "    print(f\"An I/O error occurred: {e}\")'''\n"
      ],
      "metadata": {
        "id": "CjzNw5_oc7Qr"
      },
      "execution_count": null,
      "outputs": []
    },
    {
      "cell_type": "code",
      "source": [
        "'''Q21.Write a Python program that reads a file and prints the number of occurrences of a specific word\n",
        "def count_word_in_file(filename, word_to_count):\n",
        "    try:\n",
        "        with open(filename, 'r') as file:\n",
        "            content = file.read().lower()  # Convert to lowercase for case-insensitive matching\n",
        "            word_count = content.split().count(word_to_count.lower())\n",
        "            print(f\"The word '{word_to_count}' appears {word_count} time(s) in '{filename}'.\")\n",
        "    except FileNotFoundError:\n",
        "        print(f\"Error: The file '{filename}' does not exist.\")\n",
        "    except IOError as e:\n",
        "        print(f\"An I/O error occurred: {e}\")\n",
        "\n",
        "if __name__ == \"__main__\":\n",
        "    filename = input(\"Enter the filename: \")\n",
        "    word = input(\"Enter the word to count: \")\n",
        "    count_word_in_file(filename, word)'''\n"
      ],
      "metadata": {
        "id": "Y6W35KufdYX7"
      },
      "execution_count": null,
      "outputs": []
    },
    {
      "cell_type": "code",
      "source": [
        "'''Q22.How can you check if a file is empty before attempting to read its contents\n",
        "filename = \"example.txt\"\n",
        "\n",
        "try:\n",
        "    with open(filename, 'r') as file:\n",
        "        contents = file.read()\n",
        "        if not contents.strip():\n",
        "            print(\"The file is empty.\")\n",
        "        else:\n",
        "            print(\"File contents:\")\n",
        "            print(contents)\n",
        "except FileNotFoundError:\n",
        "    print(\"File not found.\")''''\n"
      ],
      "metadata": {
        "id": "Wnp1vQ6ndikl"
      },
      "execution_count": null,
      "outputs": []
    },
    {
      "cell_type": "code",
      "source": [
        "'''Q23.Write a Python program that writes to a log file when an error occurs during file handling.\n",
        "import logging\n",
        "\n",
        "# Set up logging\n",
        "logging.basicConfig(\n",
        "    filename='file_errors.log',\n",
        "    level=logging.ERROR,\n",
        "    format='%(asctime)s - %(levelname)s - %(message)s'\n",
        ")\n",
        "\n",
        "def read_file(filename):\n",
        "    try:\n",
        "        with open(filename, 'r') as file:\n",
        "            contents = file.read()\n",
        "            print(\"File contents:\")\n",
        "            print(contents)\n",
        "    except FileNotFoundError as e:\n",
        "        logging.error(f\"File not found: {filename} - {e}\")\n",
        "        print(\"Error: File not found.\")\n",
        "    except IOError as e:\n",
        "        logging.error(f\"I/O error when handling file: {filename} - {e}\")\n",
        "        print(\"Error: An I/O error occurred.\")\n",
        "\n",
        "if __name__ == \"__main__\":\n",
        "    filename = input(\"Enter the filename to read: \")\n",
        "    read_file(filename)'''\n",
        "\n"
      ],
      "metadata": {
        "id": "9eCukeQed5hh"
      },
      "execution_count": null,
      "outputs": []
    }
  ]
}